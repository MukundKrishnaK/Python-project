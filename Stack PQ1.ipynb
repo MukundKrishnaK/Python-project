{
 "cells": [
  {
   "cell_type": "code",
   "execution_count": 2,
   "id": "c342b48b-e7b5-414a-a32f-9c5a4118e7f0",
   "metadata": {},
   "outputs": [
    {
     "name": "stdout",
     "output_type": "stream",
     "text": [
      "anhsirK dnukuM\n"
     ]
    }
   ],
   "source": [
    "#1. Reverse a String using a Stack:\n",
    "# • Implement a stack using a list and write a function to reverse a given string. Push\n",
    "# each character of the string onto the stack, then pop each character off the stack to\n",
    "# reverse the string\n",
    "\n",
    "def reverse_string(s):\n",
    "    stack = list(s)\n",
    "    reversed_str = \"\"\n",
    "    while stack:\n",
    "        reversed_str += stack.pop()\n",
    "    return reversed_str\n",
    "\n",
    "\n",
    "print(reverse_string(\"Mukund Krishna\"))  \n"
   ]
  },
  {
   "cell_type": "code",
   "execution_count": 4,
   "id": "6ad6ba59-0e85-43d8-aec8-184e12667b23",
   "metadata": {},
   "outputs": [
    {
     "name": "stdout",
     "output_type": "stream",
     "text": [
      "[4, 5, 5, 6, 6, 12, 22, 23, 33, 44, 66, 67, 77, 88, 99]\n"
     ]
    }
   ],
   "source": [
    "#2. Stack Sort Algorithm:\n",
    "# • Implement a stack using a list and sort the elements using only stack operations\n",
    "# (i.e., push, pop). You are not allowed to use any other data structures like lists,\n",
    "# queues, or arrays to store intermediate elements\n",
    "\n",
    "def sort_stack(stack):\n",
    "    temp_stack = []\n",
    "    while stack:\n",
    "        temp = stack.pop()\n",
    "        while temp_stack and temp_stack[-1] > temp:\n",
    "            stack.append(temp_stack.pop())\n",
    "        temp_stack.append(temp)\n",
    "    return temp_stack\n",
    "\n",
    "stack = [33,44,23,22,12,4,5,6,77,6,5,66,67,88,99]\n",
    "sorted_stack = sort_stack(stack)\n",
    "print(sorted_stack)  \n"
   ]
  },
  {
   "cell_type": "code",
   "execution_count": 6,
   "id": "fe5a5724-8094-4d4d-b2b4-9a9feccfcea9",
   "metadata": {},
   "outputs": [
    {
     "name": "stdout",
     "output_type": "stream",
     "text": [
      "3\n"
     ]
    }
   ],
   "source": [
    "#3. Implement a Stack for Queue Operations:\n",
    "# • Use two stacks (implemented with lists) to simulate the behavior of a queue.\n",
    "# Implement the following operations:\n",
    "# ▪ enqueue(x): Add element x to the queue.\n",
    "# ▪ dequeue(): Remove and return the element at the front of the queue\n",
    "\n",
    "class QueueUsingStacks:\n",
    "    def __init__(self):\n",
    "        self.stack1 = []\n",
    "        self.stack2 = []\n",
    "\n",
    "    def enqueue(self, x):\n",
    "        self.stack1.append(x)\n",
    "\n",
    "    def dequeue(self):\n",
    "        if not self.stack2:\n",
    "            while self.stack1:\n",
    "                self.stack2.append(self.stack1.pop())\n",
    "        return self.stack2.pop() if self.stack2 else None\n",
    "\n",
    "\n",
    "q = QueueUsingStacks()\n",
    "q.enqueue(3)\n",
    "q.enqueue(1)\n",
    "print(q.dequeue())  \n"
   ]
  },
  {
   "cell_type": "code",
   "execution_count": 7,
   "id": "86cfff37-f404-4911-8cd4-8bd9c1062081",
   "metadata": {},
   "outputs": [
    {
     "name": "stdout",
     "output_type": "stream",
     "text": [
      "Type B\n",
      "Type B\n"
     ]
    }
   ],
   "source": [
    "# 4. Undo/Redo Operation with Stack:\n",
    "# • Implement an undo/redo system using two stacks. One stack will hold the history\n",
    "# of actions (for undo), and another stack will hold the actions that were undone (for\n",
    "# redo). The stack should be able to support undo() and redo() operations\n",
    "\n",
    "class UndoRedoStack:\n",
    "    def __init__(self):\n",
    "        self.undo_stack = []\n",
    "        self.redo_stack = []\n",
    "\n",
    "    def perform_action(self, action):\n",
    "        self.undo_stack.append(action)\n",
    "        self.redo_stack.clear()\n",
    "\n",
    "    def undo(self):\n",
    "        if self.undo_stack:\n",
    "            action = self.undo_stack.pop()\n",
    "            self.redo_stack.append(action)\n",
    "            return action\n",
    "        return None\n",
    "\n",
    "    def redo(self):\n",
    "        if self.redo_stack:\n",
    "            action = self.redo_stack.pop()\n",
    "            self.undo_stack.append(action)\n",
    "            return action\n",
    "        return None\n",
    "\n",
    "editor = UndoRedoStack()\n",
    "editor.perform_action(\"Type A\")\n",
    "editor.perform_action(\"Type B\")\n",
    "print(editor.undo())  \n",
    "print(editor.redo())  \n"
   ]
  },
  {
   "cell_type": "code",
   "execution_count": 8,
   "id": "f524fd04-a9ab-45e7-ab43-7e21fea60583",
   "metadata": {},
   "outputs": [
    {
     "name": "stdout",
     "output_type": "stream",
     "text": [
      "2\n"
     ]
    }
   ],
   "source": [
    "# 5 Implement a Stack that Supports Getting the Middle Element:\n",
    "# • Implement a stack using a list that supports the following operations:\n",
    "# o push(x): Push an element onto the stack.\n",
    "# o pop(): Remove the element at the top of the stack.\n",
    "# o get_middle(): Return the middle element of the stack. If the stack has an even\n",
    "# number of elements, return the lower of the two middle elements\n",
    "\n",
    "class StackWithMiddle:\n",
    "    def __init__(self):\n",
    "        self.stack = []\n",
    "\n",
    "    def push(self, x):\n",
    "        self.stack.append(x)\n",
    "\n",
    "    def pop(self):\n",
    "        return self.stack.pop() if self.stack else None\n",
    "\n",
    "    def get_middle(self):\n",
    "        if not self.stack:\n",
    "            return None\n",
    "        mid_index = (len(self.stack) - 1) // 2\n",
    "        return self.stack[mid_index]\n",
    "\n",
    "s = StackWithMiddle()\n",
    "s.push(1)\n",
    "s.push(2)\n",
    "s.push(3)\n",
    "s.push(4)\n",
    "print(s.get_middle())  \n"
   ]
  },
  {
   "cell_type": "code",
   "execution_count": 9,
   "id": "034ab7ed-e27a-449e-9c43-172acb12af96",
   "metadata": {},
   "outputs": [
    {
     "name": "stdout",
     "output_type": "stream",
     "text": [
      "[1, 2, 3, 4, 5]\n"
     ]
    }
   ],
   "source": [
    "# 6 Remove Duplicates from a Stack:\n",
    "# • Implement a function that removes all duplicate elements from a stack. The stack\n",
    "# is represented as a list, and the function should ensure the stack contains only unique\n",
    "# elements in the order they first appeared\n",
    "\n",
    "def remove_duplicates(stack):\n",
    "    seen = set()\n",
    "    new_stack = []\n",
    "    for item in stack:\n",
    "        if item not in seen:\n",
    "            new_stack.append(item)\n",
    "            seen.add(item)\n",
    "    return new_stack\n",
    "\n",
    "stack = [1, 2, 2, 3, 4, 4, 5]\n",
    "print(remove_duplicates(stack)) \n",
    "\n"
   ]
  },
  {
   "cell_type": "code",
   "execution_count": 10,
   "id": "163d1cdf-aa30-46f8-b50c-027fa60c4c24",
   "metadata": {},
   "outputs": [
    {
     "name": "stdout",
     "output_type": "stream",
     "text": [
      "2\n"
     ]
    }
   ],
   "source": [
    "# 7. Implement Stack with Two Queues:\n",
    "# • Using two queues (represented by lists), implement a stack. Implement the\n",
    "# following stack operations:\n",
    "# o push(x): Add element x to the stack.\n",
    "# o pop(): Remove and return the top element from the stack.\n",
    "# o peek(): Return the top element without removing it.\n",
    "# o is_empty(): Return whether the stack is empty.\n",
    "\n",
    "\n",
    "from collections import deque\n",
    "\n",
    "class StackUsingQueues:\n",
    "    def __init__(self):\n",
    "        self.queue1 = deque()\n",
    "        self.queue2 = deque()\n",
    "\n",
    "    def push(self, x):\n",
    "        self.queue1.append(x)\n",
    "\n",
    "    def pop(self):\n",
    "        while len(self.queue1) > 1:\n",
    "            self.queue2.append(self.queue1.popleft())\n",
    "        top = self.queue1.popleft()\n",
    "        self.queue1, self.queue2 = self.queue2, self.queue1\n",
    "        return top\n",
    "\n",
    "    def peek(self):\n",
    "        return self.queue1[-1] if self.queue1 else None\n",
    "\n",
    "    def is_empty(self):\n",
    "        return not self.queue1\n",
    "\n",
    "s = StackUsingQueues()\n",
    "s.push(1)\n",
    "s.push(2)\n",
    "print(s.pop()) \n"
   ]
  },
  {
   "cell_type": "code",
   "execution_count": 11,
   "id": "c1a430de-73c5-49f6-a667-42839997fd8e",
   "metadata": {},
   "outputs": [
    {
     "name": "stdout",
     "output_type": "stream",
     "text": [
      "True\n"
     ]
    }
   ],
   "source": [
    "# 8. Check if a Stack is Palindrome:\n",
    "# • Implement a stack using a list and write a function to check whether the elements\n",
    "# of a stack form a palindrome (i.e., the stack is the same when reversed.\n",
    "\n",
    "def is_palindrome(stack):\n",
    "    return stack == stack[::-1]\n",
    "\n",
    "stack = [1, 2, 3, 2, 1]\n",
    "print(is_palindrome(stack))  \n"
   ]
  },
  {
   "cell_type": "code",
   "execution_count": 12,
   "id": "563636ad-611d-46e8-b939-652f529666ad",
   "metadata": {},
   "outputs": [
    {
     "name": "stdout",
     "output_type": "stream",
     "text": [
      "[5, 10, 10, -1, -1]\n"
     ]
    }
   ],
   "source": [
    "# 9. Next Greater Element using Stack:\n",
    "# • Given a list of numbers, implement a stack to find the next greater element for each\n",
    "# element in the list. For each element, find the nearest greater element that appears\n",
    "# later in the list. If no greater element exists, return -1.\n",
    "\n",
    "def next_greater_element(arr):\n",
    "    stack = []\n",
    "    result = [-1] * len(arr)\n",
    "    for i in range(len(arr) - 1, -1, -1):\n",
    "        while stack and stack[-1] <= arr[i]:\n",
    "            stack.pop()\n",
    "        result[i] = stack[-1] if stack else -1\n",
    "        stack.append(arr[i])\n",
    "    return result\n",
    "\n",
    "\n",
    "print(next_greater_element([4, 5, 2, 10, 8]))  \n"
   ]
  },
  {
   "cell_type": "code",
   "execution_count": 13,
   "id": "0dcccdb4-8d73-431f-a781-3dcef41fbf90",
   "metadata": {},
   "outputs": [
    {
     "name": "stdout",
     "output_type": "stream",
     "text": [
      "deque([5, 4, 3, 2, 1])\n"
     ]
    }
   ],
   "source": [
    "# 10. Reverse a Queue using a Stack:\n",
    "# • Given a queue, implement a stack to reverse the queue using only stack operations\n",
    "# (push, pop). You cannot use any other additional data structures for storing\n",
    "# intermediate elements\n",
    "\n",
    "from collections import deque\n",
    "\n",
    "def reverse_queue(queue):\n",
    "    stack = []\n",
    "    while queue:\n",
    "        stack.append(queue.popleft())\n",
    "    while stack:\n",
    "        queue.append(stack.pop())\n",
    "    return queue\n",
    "\n",
    "\n",
    "q = deque([1, 2, 3, 4, 5])\n",
    "print(reverse_queue(q))  \n"
   ]
  },
  {
   "cell_type": "code",
   "execution_count": 14,
   "id": "44800da7-29f9-414c-a4d5-d01717e4f9b6",
   "metadata": {},
   "outputs": [
    {
     "name": "stdout",
     "output_type": "stream",
     "text": [
      "[5, 6, 4]\n"
     ]
    }
   ],
   "source": [
    "# 11. Remove All Elements Less Than X:\n",
    "# • Implement a stack using a list and write a function that removes all elements less\n",
    "# than a given number X from the stack. After removing the elements, return the\n",
    "# modified stack\n",
    "\n",
    "def remove_less_than(stack, x):\n",
    "    new_stack = [item for item in stack if item >= x]\n",
    "    return new_stack\n",
    "\n",
    "\n",
    "stack = [1, 3, 5, 2, 6, 4]\n",
    "print(remove_less_than(stack, 4))  \n"
   ]
  },
  {
   "cell_type": "code",
   "execution_count": null,
   "id": "dac378d6-dac4-4ee3-b09e-25cc3ee798a7",
   "metadata": {},
   "outputs": [],
   "source": []
  }
 ],
 "metadata": {
  "kernelspec": {
   "display_name": "Python 3 (ipykernel)",
   "language": "python",
   "name": "python3"
  },
  "language_info": {
   "codemirror_mode": {
    "name": "ipython",
    "version": 3
   },
   "file_extension": ".py",
   "mimetype": "text/x-python",
   "name": "python",
   "nbconvert_exporter": "python",
   "pygments_lexer": "ipython3",
   "version": "3.12.4"
  }
 },
 "nbformat": 4,
 "nbformat_minor": 5
}
