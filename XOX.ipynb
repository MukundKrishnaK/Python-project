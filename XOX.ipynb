{
 "cells": [
  {
   "cell_type": "code",
   "execution_count": 1,
   "id": "a6947689-2440-4da9-8859-71abcfadc07f",
   "metadata": {},
   "outputs": [
    {
     "name": "stdin",
     "output_type": "stream",
     "text": [
      "enter the name of player1 MK\n",
      "enter the name of player2 MS\n"
     ]
    },
    {
     "name": "stdout",
     "output_type": "stream",
     "text": [
      "\n",
      "  |   |   \n",
      "---------\n",
      "  |   |   \n",
      "---------\n",
      "  |   |   \n",
      "\n",
      "Your turn player 1\n"
     ]
    },
    {
     "name": "stdin",
     "output_type": "stream",
     "text": [
      "Enter your move (1-9):  5\n"
     ]
    },
    {
     "name": "stdout",
     "output_type": "stream",
     "text": [
      "\n",
      "  |   |   \n",
      "---------\n",
      "  | X |   \n",
      "---------\n",
      "  |   |   \n",
      "\n",
      "Your turn player 2\n"
     ]
    },
    {
     "name": "stdin",
     "output_type": "stream",
     "text": [
      "Enter your move (1-9):  4\n"
     ]
    },
    {
     "name": "stdout",
     "output_type": "stream",
     "text": [
      "\n",
      "  |   |   \n",
      "---------\n",
      "O | X |   \n",
      "---------\n",
      "  |   |   \n",
      "\n",
      "Your turn player 1\n"
     ]
    },
    {
     "name": "stdin",
     "output_type": "stream",
     "text": [
      "Enter your move (1-9):  7\n"
     ]
    },
    {
     "name": "stdout",
     "output_type": "stream",
     "text": [
      "\n",
      "  |   |   \n",
      "---------\n",
      "O | X |   \n",
      "---------\n",
      "X |   |   \n",
      "\n",
      "Your turn player 2\n"
     ]
    },
    {
     "name": "stdin",
     "output_type": "stream",
     "text": [
      "Enter your move (1-9):  8\n"
     ]
    },
    {
     "name": "stdout",
     "output_type": "stream",
     "text": [
      "\n",
      "  |   |   \n",
      "---------\n",
      "O | X |   \n",
      "---------\n",
      "X | O |   \n",
      "\n",
      "Your turn player 1\n"
     ]
    },
    {
     "name": "stdin",
     "output_type": "stream",
     "text": [
      "Enter your move (1-9):  3\n"
     ]
    },
    {
     "name": "stdout",
     "output_type": "stream",
     "text": [
      "\n",
      "  |   | X \n",
      "---------\n",
      "O | X |   \n",
      "---------\n",
      "X | O |   \n",
      "\n",
      "X wins! Congratulations! MK\n"
     ]
    }
   ],
   "source": [
    "# Tic-Tac-Toe game in Python\n",
    "\n",
    "board = [\" \" for x in range(9)]\n",
    "player1=str(input(\"enter the name of player1\"))\n",
    "player2=str(input(\"enter the name of player2\"))\n",
    "\n",
    "def print_board():\n",
    "    row1 = \"{} | {} | {} \".format(board[0], board[1], board[2])\n",
    "    rowh = \"---------\"\n",
    "    row2 = \"{} | {} | {} \".format(board[3], board[4], board[5])\n",
    "    rowx = \"---------\"\n",
    "    row3 = \"{} | {} | {} \".format(board[6], board[7], board[8])\n",
    "\n",
    "    print()\n",
    "    print(row1)\n",
    "    print(rowh)\n",
    "    print(row2)\n",
    "    print(rowx)\n",
    "    print(row3)\n",
    "    print()\n",
    "\n",
    "def player_move(icon):\n",
    "    if icon == \"X\":\n",
    "        number = 1\n",
    "    elif icon == \"O\":\n",
    "        number = 2\n",
    "\n",
    "    print(\"Your turn player {}\".format(number))\n",
    "\n",
    "    choice = int(input(\"Enter your move (1-9): \").strip())\n",
    "    if board[choice - 1] == \" \":\n",
    "        board[choice - 1] = icon\n",
    "    else:\n",
    "        print()\n",
    "        print(\"That space is taken!\")\n",
    "\n",
    "def is_victory(icon):\n",
    "    if (board[0] == icon and board[1] == icon and board[2] == icon) or \\\n",
    "       (board[3] == icon and board[4] == icon and board[5] == icon) or \\\n",
    "       (board[6] == icon and board[7] == icon and board[8] == icon) or \\\n",
    "       (board[0] == icon and board[3] == icon and board[6] == icon) or \\\n",
    "       (board[1] == icon and board[4] == icon and board[7] == icon) or \\\n",
    "       (board[2] == icon and board[5] == icon and board[8] == icon) or \\\n",
    "       (board[0] == icon and board[4] == icon and board[8] == icon) or \\\n",
    "       (board[2] == icon and board[4] == icon and board[6] == icon):\n",
    "        return True\n",
    "    else:\n",
    "        return False\n",
    "\n",
    "def is_draw():\n",
    "    if \" \" not in board:\n",
    "        return True\n",
    "    else:\n",
    "        return False\n",
    "\n",
    "while True:\n",
    "    print_board()\n",
    "    player_move(\"X\")\n",
    "    print_board()\n",
    "    if is_victory(\"X\"):\n",
    "        print(\"X wins! Congratulations!\",player1)\n",
    "        break\n",
    "    elif is_draw():\n",
    "        print(\"It's a draw!\")\n",
    "        break\n",
    "    player_move(\"O\")\n",
    "    if is_victory(\"O\"):\n",
    "        print_board()\n",
    "        print(\"O wins! Congratulations!\",player2)\n",
    "        break\n",
    "    elif is_draw():\n",
    "        print(\"It's a draw!\")\n",
    "        break"
   ]
  },
  {
   "cell_type": "code",
   "execution_count": null,
   "id": "64da6e73-914d-4fd7-af6b-e2688d693888",
   "metadata": {},
   "outputs": [],
   "source": []
  }
 ],
 "metadata": {
  "kernelspec": {
   "display_name": "Python 3 (ipykernel)",
   "language": "python",
   "name": "python3"
  },
  "language_info": {
   "codemirror_mode": {
    "name": "ipython",
    "version": 3
   },
   "file_extension": ".py",
   "mimetype": "text/x-python",
   "name": "python",
   "nbconvert_exporter": "python",
   "pygments_lexer": "ipython3",
   "version": "3.12.4"
  }
 },
 "nbformat": 4,
 "nbformat_minor": 5
}
